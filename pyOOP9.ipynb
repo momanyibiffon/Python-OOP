{
 "cells": [
  {
   "cell_type": "code",
   "execution_count": 17,
   "id": "a5cd4c4a",
   "metadata": {},
   "outputs": [
    {
     "name": "stdout",
     "output_type": "stream",
     "text": [
      "STUDENTS\n",
      "Name:Biffon, ID:202114080103, College:Computer Science\n",
      "Name:Mimz, ID:202114080106, College:Social Arts\n",
      "Total students: 2\n",
      "PREFECTS\n",
      "Name:DouDou, ID:202114080104, College:Chinese, Position: President\n",
      "Name:Aqing, ID:202114080105, College:Chinese, Position: Secretary\n",
      "Total prefects: 2\n"
     ]
    }
   ],
   "source": [
    "# Python OOP Code by Biffon Momanyi\n",
    "\n",
    "# parent class\n",
    "class Student:\n",
    "    \n",
    "    student_count = 0\n",
    "    prefects_count = 0\n",
    "    \n",
    "    def __init__(self, name, ID, college):\n",
    "        self.name = name\n",
    "        self.ID = ID\n",
    "        self.college = college\n",
    "        Student.student_count += 1\n",
    "        \n",
    "    def displayStudent(self):\n",
    "        print(\"Name:{}, ID:{}, College:{}\".format(self.name, self.ID, self.college))\n",
    "        \n",
    "    def marks(self):\n",
    "        marks = {}\n",
    "        for i in range(5):\n",
    "            course = input(\"Course title: \")\n",
    "            mark = int(input(\"Course mark: \"))\n",
    "            marks.update({course:mark})\n",
    "        print(marks)\n",
    "\n",
    "# Child class\n",
    "class Prefect(Student):\n",
    "    def __init__(self, name, ID, college, position):\n",
    "        self.position = position\n",
    "        # invoking the __init__ of the parent class\n",
    "        Student.__init__(self, name, ID, college)\n",
    "        Student.prefects_count += 1\n",
    "        \n",
    "    def displayPrefect(self):\n",
    "        print(\"Name:{}, ID:{}, College:{}, Position: {}\".format(self.name, self.ID, self.college, self.position))\n",
    "        \n",
    "\n",
    "std = Student(\"Biffon\",202114080103,\"Computer Science\")\n",
    "std2 = Student(\"Mimz\",202114080106,\"Social Arts\")\n",
    "print(\"STUDENTS\")\n",
    "std.displayStudent()\n",
    "std2.displayStudent()\n",
    "\n",
    "print(\"Total students: {}\".format(Student.student_count))\n",
    "#std.marks()\n",
    "\n",
    "pft = Prefect(\"DouDou\", 202114080104, \"Chinese\", \"President\")\n",
    "pft2 = Prefect(\"Aqing\", 202114080105, \"Chinese\", \"Secretary\")\n",
    "print(\"PREFECTS\")\n",
    "pft.displayPrefect()\n",
    "pft2.displayPrefect()\n",
    "print(\"Total prefects: {}\".format(Student.prefects_count))"
   ]
  },
  {
   "cell_type": "code",
   "execution_count": null,
   "id": "1e2f7fbf",
   "metadata": {},
   "outputs": [],
   "source": [
    "# std.marks()"
   ]
  },
  {
   "cell_type": "code",
   "execution_count": 37,
   "id": "d749e000",
   "metadata": {},
   "outputs": [
    {
     "name": "stdout",
     "output_type": "stream",
     "text": [
      "{'Name': 'Cat', 'Age': 1, 'Weight (Kgs)': 2, 'color': 'white'}\n",
      "{'Name': 'Dog', 'Age': 2, 'Weight (Kgs)': 4, 'color': 'Blue'}\n",
      "*****************\n",
      "Total animals:3\n",
      "*****************\n"
     ]
    }
   ],
   "source": [
    "class Animal:\n",
    "    total_animals = 0\n",
    "    \n",
    "    def __init__(self, name, age, weight, color):\n",
    "        self.name = name\n",
    "        self.age = age\n",
    "        self.weight = weight\n",
    "        self.color = color\n",
    "        \n",
    "        Animal.total_animals += 1\n",
    "    \n",
    "    def display(self):\n",
    "        animal = {\n",
    "            \"Name\": self.name,\n",
    "            \"Age\": self.age,\n",
    "            \"Weight (Kgs)\": self.weight,\n",
    "            \"color\": self.color\n",
    "        }\n",
    "        print(animal)\n",
    "        \n",
    "anim1 = Animal(\"Cat\", 1, 2, \"white\")\n",
    "anim2 = Animal(\"Dog\", 2, 4, \"Blue\")\n",
    "anim3 = Animal(\"Cow\", 2, 4, \"Black\")\n",
    "anim1.display()\n",
    "anim2.display()\n",
    "\n",
    "print(\"*****************\\nTotal animals:{}\\n*****************\".format(Animal.total_animals))"
   ]
  },
  {
   "cell_type": "code",
   "execution_count": null,
   "id": "b9fc1da6",
   "metadata": {},
   "outputs": [],
   "source": []
  },
  {
   "cell_type": "code",
   "execution_count": null,
   "id": "ec2369e8",
   "metadata": {},
   "outputs": [],
   "source": []
  }
 ],
 "metadata": {
  "kernelspec": {
   "display_name": "PythonCPU",
   "language": "python",
   "name": "pythoncpu"
  },
  "language_info": {
   "codemirror_mode": {
    "name": "ipython",
    "version": 3
   },
   "file_extension": ".py",
   "mimetype": "text/x-python",
   "name": "python",
   "nbconvert_exporter": "python",
   "pygments_lexer": "ipython3",
   "version": "3.9.7"
  }
 },
 "nbformat": 4,
 "nbformat_minor": 5
}
